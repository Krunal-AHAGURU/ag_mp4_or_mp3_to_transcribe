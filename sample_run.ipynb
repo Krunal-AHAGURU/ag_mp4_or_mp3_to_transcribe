{
 "cells": [
  {
   "cell_type": "code",
   "execution_count": null,
   "id": "b956c4dd",
   "metadata": {
    "vscode": {
     "languageId": "plaintext"
    }
   },
   "outputs": [],
   "source": []
  },
  {
   "cell_type": "code",
   "execution_count": null,
   "id": "6ae8c6d9",
   "metadata": {
    "vscode": {
     "languageId": "plaintext"
    }
   },
   "outputs": [],
   "source": [
    "\"\"\"\n",
    "Video to VTT Subtitle Generator using faster-whisper\n",
    "----------------------------------------------------\n",
    "Usage:\n",
    "    python transcribe.py <video_file> <output_vtt> [model_size]\n",
    "\n",
    "Example:\n",
    "    python transcribe.py BS1064NEET26MAY18V1.mp4 BS1064NEET26MAY18V1.vtt small\n",
    "\"\"\"\n",
    "\n",
    "import sys\n",
    "import os\n",
    "from faster_whisper import WhisperModel\n",
    "\n",
    "\n",
    "def format_timestamp(seconds: float) -> str:\n",
    "    \"\"\"\n",
    "    Convert seconds to VTT timestamp format (HH:MM:SS.mmm)\n",
    "    \"\"\"\n",
    "    hours = int(seconds // 3600)\n",
    "    minutes = int((seconds % 3600) // 60)\n",
    "    secs = int(seconds % 60)\n",
    "    millis = int((seconds - int(seconds)) * 1000)\n",
    "    return f\"{hours:02d}:{minutes:02d}:{secs:02d}.{millis:03d}\"\n",
    "\n",
    "\n",
    "def transcribe_video_to_vtt(video_path: str, output_vtt: str, model_size=\"small\"):\n",
    "    \"\"\"\n",
    "    Transcribes an MP4 video file into a .vtt subtitle file using faster-whisper.\n",
    "    \"\"\"\n",
    "    if not os.path.exists(video_path):\n",
    "        raise FileNotFoundError(f\"Video file not found: {video_path}\")\n",
    "\n",
    "    print(f\"🚀 Loading model '{model_size}'...\")\n",
    "    device = \"cuda\" if model_size != \"tiny\" else \"cpu\"\n",
    "    model = WhisperModel(model_size, device=device)\n",
    "\n",
    "    print(f\"🎙️ Transcribing video: {video_path}\")\n",
    "    segments, info = model.transcribe(video_path)\n",
    "\n",
    "    print(f\"🌎 Detected language: {info.language}, \"\n",
    "          f\"Probability: {info.language_probability:.2f}\")\n",
    "\n",
    "    with open(output_vtt, \"w\", encoding=\"utf-8\") as vtt:\n",
    "        vtt.write(\"WEBVTT\\n\\n\")\n",
    "        for i, segment in enumerate(segments, start=1):\n",
    "            start = format_timestamp(segment.start)\n",
    "            end = format_timestamp(segment.end)\n",
    "            vtt.write(f\"{i}\\n{start} --> {end}\\n{segment.text.strip()}\\n\\n\")\n",
    "\n",
    "    print(f\"✅ Subtitles saved as: {output_vtt}\")\n",
    "\n",
    "\n",
    "if __name__ == \"__main__\":\n",
    "    if len(sys.argv) < 3:\n",
    "        print(\"Usage: python transcribe.py <video_file> <output_vtt> [model_size]\")\n",
    "        sys.exit(1)\n",
    "\n",
    "    video_file = sys.argv[1]\n",
    "    output_vtt = sys.argv[2]\n",
    "    model_size = sys.argv[3] if len(sys.argv) > 3 else \"small\"\n",
    "\n",
    "    transcribe_video_to_vtt(video_file, output_vtt, model_size)\n"
   ]
  }
 ],
 "metadata": {
  "language_info": {
   "name": "python"
  }
 },
 "nbformat": 4,
 "nbformat_minor": 5
}
